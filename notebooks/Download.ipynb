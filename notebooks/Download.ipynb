{
 "cells": [
  {
   "cell_type": "markdown",
   "metadata": {
    "colab_type": "text",
    "id": "lRt1qTwC2rBr"
   },
   "source": [
    "# Download Pipeline"
   ]
  },
  {
   "cell_type": "markdown",
   "metadata": {},
   "source": [
    "This pipeline downloads the data from the source server. It checks the integrity of the downloaded data and extracts it to the target directory. Following are the outline the download of the pipeline."
   ]
  },
  {
   "cell_type": "markdown",
   "metadata": {
    "colab_type": "text",
    "id": "gqJH7DFvuu2T"
   },
   "source": [
    "**1. Import Required Python packages**"
   ]
  },
  {
   "cell_type": "code",
   "execution_count": 0,
   "metadata": {
    "colab": {
     "autoexec": {
      "startup": false,
      "wait_interval": 0
     }
    },
    "colab_type": "code",
    "collapsed": true,
    "id": "cKVRWOEbu18I"
   },
   "outputs": [],
   "source": [
    "import os\n",
    "import sys\n",
    "import re\n",
    "import time\n",
    "import subprocess\n"
   ]
  },
  {
   "cell_type": "markdown",
   "metadata": {
    "colab_type": "text",
    "id": "pla_ZROMvMlD"
   },
   "source": [
    "**2. Specify source and target data directory**"
   ]
  },
  {
   "cell_type": "code",
   "execution_count": 0,
   "metadata": {
    "colab": {
     "autoexec": {
      "startup": false,
      "wait_interval": 0
     }
    },
    "colab_type": "code",
    "collapsed": true,
    "id": "sZhWLr4OvBfN"
   },
   "outputs": [],
   "source": [
    "DATA_DIR = './'\n",
    "\n",
    "'''FTP address for baseline directory of Pubmed '''\n",
    "BASELINE_DIR = os.path.join(DATA_DIR,\\\n",
    "                            'ftp.ncbi.nlm.nih.gov/pubmed/baseline/')\n",
    "\n",
    "\n",
    "'''FTP address for baseline directory of Pubmed'''\n",
    "UPDATE_FILES_DIR = os.path.join(DATA_DIR,\\\n",
    "                                'ftp.ncbi.nlm.nih.gov/pubmed/updatefiles/')"
   ]
  },
  {
   "cell_type": "markdown",
   "metadata": {
    "colab_type": "text",
    "id": "YTj4-hyxvSm5"
   },
   "source": [
    "**3. Controlling download with ```os``` package and ```wget``` command.**\n",
    "\n",
    "```os.path.join()``` functionality is implemented to join one or more path components intelligently. \n",
    "     ```os.system (wget command)```  functionality is implemented to execute the wget command in a subshell. \n",
    "     The following are optional syntax modifiers for the wget command to control the download:\n",
    " - flag  ```-q ``` turns off wget output,\n",
    " - flag ```-r ``` turns on recursive retrieving, \n",
    " - directory prefix ``` --directory-prefix=%s```  sets the prefix of all other files and subdirectories,\n",
    " - directory based limit ```--no-parent```  guarantees that you will never leave the existing hierarchy of the directory.\n",
    "\n",
    "  \n",
    "  "
   ]
  },
  {
   "cell_type": "code",
   "execution_count": 0,
   "metadata": {
    "colab": {
     "autoexec": {
      "startup": false,
      "wait_interval": 0
     }
    },
    "colab_type": "code",
    "collapsed": true,
    "id": "jF7iXSIFv-to"
   },
   "outputs": [],
   "source": [
    "def download_pubmed_baseline():\n",
    "    '''Baseline'''\n",
    "    print(\"Start downloading pubmed baseline files.\", \"ftp://ftp.ncbi.nlm.nih.gov/pubmed/baseline/\")\n",
    "    t1 = time.time()\n",
    "    rc = os.system('wget -q -r --directory-prefix=%s --no-parent ftp://ftp.ncbi.nlm.nih.gov/pubmed/baseline/' % DATA_DIR)\n",
    "    if rc != 0:\n",
    "        print(\"Return code of downloading pubmed baseline files via wget is %d, not zero.\" % rc)\n",
    "        print(\"Link: ftp://ftp.ncbi.nlm.nih.gov/pubmed/baseline\")\n",
    "        exit(rc)\n",
    "    t2 = time.time()\n",
    "    print(\"Finish downloading pubmed baseline files. %fs\" % (t2 - t1))\n",
    "    \n",
    "    \n",
    "def download_pubmed_update():   \n",
    "    '''Update'''\n",
    "    print(\"Start downloading pubmed updatefiles.\", \"ftp://ftp.ncbi.nlm.nih.gov/pubmed/updatefiles/\")\n",
    "    rc = os.system('wget -q -r --directory-prefix=%s --no-parent ftp://ftp.ncbi.nlm.nih.gov/pubmed/updatefiles/' % DATA_DIR)\n",
    "    if rc != 0:\n",
    "        print(\"Return code of downloading pubmed update files via wget is %d, not zero.\" % rc)\n",
    "        print(\"Link: ftp://ftp.ncbi.nlm.nih.gov/pubmed/updatefiles\")\n",
    "        exit(rc)\n",
    "    t3 = time.time()\n",
    "    print(\"Finish downloading pubmed updatefiles. %fs\" % (t3 - t2))\n",
    "    \n",
    "    \n",
    "def download_bioconcepts2pubtator_offsets():\n",
    "    '''bioconcepts2pubtator'''\n",
    "    rc = os.system('wget -q --directory-prefix=%s ftp://ftp.ncbi.nlm.nih.gov/pub/lu/PubTator/bioconcepts2pubtator_offsets.gz' % DATA_DIR)\n",
    "    if rc != 0:\n",
    "        print(\"Return code of downloading pubmed update files via wget is %d, not zero.\" % rc)\n",
    "        print(\"Link: ftp://ftp.ncbi.nlm.nih.gov/pubmed/updatefiles\")\n",
    "        exit(rc)"
   ]
  },
  {
   "cell_type": "markdown",
   "metadata": {
    "colab_type": "text",
    "id": "Hz4yorXl2CpS"
   },
   "source": [
    "**4. Md5-checksum**\n",
    "\n",
    "An MD5-checksum is a 32-character hexadecimal number that is computed on a file. This number helps to verify the integrity of the file download. Implementing the ```re``` and ```subprocess``` packages adds MD5-checksum functionality.\n"
   ]
  },
  {
   "cell_type": "code",
   "execution_count": 0,
   "metadata": {
    "colab": {
     "autoexec": {
      "startup": false,
      "wait_interval": 0
     }
    },
    "colab_type": "code",
    "collapsed": true,
    "id": "NG4qsgxX2Wl0"
   },
   "outputs": [],
   "source": [
    "def check_all_md5_in_dir(dir):\n",
    "  \n",
    "    if os.system(\"which md5sum 1>/dev/null\") != 0:\n",
    "        print(\"md5sum not found\")           \n",
    "        # Continue executing\n",
    "        return\n",
    "      \n",
    "    count = 0\n",
    "    print(\"==== Start checking md5 in %s ====\" % dir)\n",
    "    if os.path.isdir(dir):\n",
    "        for file in os.listdir(dir):\n",
    "            if re.search('^medline17n\\d\\d\\d\\d.xml.gz$', file):\n",
    "                count += 1\n",
    "                check_md5(os.path.join(dir, file))\n",
    "                if count % 100 == 0:\n",
    "                    print(\"%d files checked\" % count)\n",
    "        print(\"==== All md5 check succeeded (%d files) ====\" % count) \n",
    "        \n",
    "        \n",
    "    else:\n",
    "        print(\"Directory not found: %s (for md5 check)\" % dir)\n",
    "        \n",
    "        \n",
    "        \n",
    "\n",
    "def check_md5(file):\n",
    "    if os.path.isfile(file) and os.path.isfile(file + \".md5\"):\n",
    "\n",
    "        # Work only on Linux, user \"md5\" for Mac\n",
    "        stdout = subprocess.check_output(\"md5sum %s\" % file, shell=True).decode('utf-8')\n",
    "\n",
    "        md5_calculated = re.search('[0-9a-f]{32}', stdout).group(0)\n",
    "        md5 = re.search('[0-9a-f]{32}', open(file + \".md5\", 'r').readline()).group(0)\n",
    "\n",
    "        if md5 != md5_calculated:\n",
    "            print(\"Error: md5 check failed for file %s\" % file)\n",
    "            exit(1)"
   ]
  },
  {
   "cell_type": "markdown",
   "metadata": {
    "colab_type": "text",
    "id": "v0I7pOqY2wuP"
   },
   "source": [
    "**5. Data extraction** : \n",
    "\n",
    "Downloaded data files are in a compressed ```‘.gz’``` format, which need to be extracted. A data extraction pipeline can be created with the following steps:\n",
    "- import regular expression ```(re)```, and ```subprocess``` modules,\n",
    "- list all data files using ```os.listdir ``` functionality,\n",
    "- with ```os``` and ```wget``` command, ```gunzip -fqk``` , extract all files in a loop."
   ]
  },
  {
   "cell_type": "code",
   "execution_count": 0,
   "metadata": {
    "colab": {
     "autoexec": {
      "startup": false,
      "wait_interval": 0
     }
    },
    "colab_type": "code",
    "collapsed": true,
    "id": "lijcL5-c3eBH"
   },
   "outputs": [],
   "source": [
    "# Assume filename is *.gz\n",
    "def extract(file):\n",
    "    rc = os.system('gunzip -fqk %s' % file)\n",
    "    if rc != 0:\n",
    "        print(\"gunzip return code for file %s is %d, not zero\" % (file, rc))\n",
    "        exit(rc)\n",
    "    return rc\n",
    "\n",
    "def extract_all_gz_in_dir(dir):\n",
    "    if os.path.isdir(dir):\n",
    "        count = 0\n",
    "        print(\"==== Start extracting in %s ====\" % dir)\n",
    "        t1 = time.time()\n",
    "        for file in os.listdir(dir):\n",
    "            if re.search('.*\\.gz$', file):\n",
    "                extract(os.path.join(dir, file))\n",
    "                count += 1\n",
    "                if count % 50 == 0:\n",
    "                    print(\"%d files extracted, %fs taken so far\" % (count, time.time() - t1))\n",
    "        print(\"==== All files extracted (%d files). Total time: %fs ====\" % (count, time.time() - t1))\n",
    "    else:\n",
    "        print(\"Directory not found: %s (for extraction)\" % dir)        \n"
   ]
  },
  {
   "cell_type": "markdown",
   "metadata": {
    "colab_type": "text",
    "id": "ZaZspsX-3gGV"
   },
   "source": [
    "6. **Run the pipeline**"
   ]
  },
  {
   "cell_type": "code",
   "execution_count": 0,
   "metadata": {
    "colab": {
     "autoexec": {
      "startup": false,
      "wait_interval": 0
     }
    },
    "colab_type": "code",
    "collapsed": true,
    "id": "CMpW4f9-2rBw"
   },
   "outputs": [],
   "source": [
    "BASELINE_DIR = os.path.join(DATA_DIR, 'ftp.ncbi.nlm.nih.gov/pubmed/baseline/')\n",
    "UPDATE_FILES_DIR = os.path.join(DATA_DIR, 'ftp.ncbi.nlm.nih.gov/pubmed/updatefiles/')\n",
    "        \n",
    "            \n",
    "'''Download'''    \n",
    "download_pubmed_baseline()\n",
    "download_pubmed_update()\n",
    "    \n",
    "'''MD5 Checksum'''\n",
    "check_all_md5_in_dir(BASELINE_DIR)\n",
    "check_all_md5_in_dir(UPDATE_FILES_DIR)\n",
    "    \n",
    "    \n",
    "'''Extraction'''\n",
    "extract_all_gz_in_dir(BASELINE_DIR)\n",
    "extract_all_gz_in_dir(UPDATE_FILES_DIR)\n",
    "\n",
    "'''bioconcepts2pubtator'''\n",
    "download_bioconcepts2pubtator_offsets()\n",
    "extract(os.path.join(DATA_DIR, 'bioconcepts2pubtator_offsets.gz'))\n"
   ]
  },
  {
   "cell_type": "code",
   "execution_count": null,
   "metadata": {
    "collapsed": true
   },
   "outputs": [],
   "source": []
  }
 ],
 "metadata": {
  "anaconda-cloud": {},
  "colab": {
   "collapsed_sections": [],
   "default_view": {},
   "name": "1. Download.ipynb",
   "provenance": [],
   "version": "0.3.2",
   "views": {}
  },
  "kernelspec": {
   "display_name": "Python [default]",
   "language": "python",
   "name": "python3"
  },
  "language_info": {
   "codemirror_mode": {
    "name": "ipython",
    "version": 3
   },
   "file_extension": ".py",
   "mimetype": "text/x-python",
   "name": "python",
   "nbconvert_exporter": "python",
   "pygments_lexer": "ipython3",
   "version": "3.5.2"
  }
 },
 "nbformat": 4,
 "nbformat_minor": 1
}
