{
 "cells": [
  {
   "cell_type": "markdown",
   "metadata": {
    "colab_type": "text",
    "id": "q-yWry-ZZaxW"
   },
   "source": [
    "# Text-cube creation \n",
    "\n"
   ]
  },
  {
   "cell_type": "markdown",
   "metadata": {
    "colab_type": "text",
    "id": "VStHk7C_Z133"
   },
   "source": [
    "Text-cube creation is an intelligent data engineering step in CaseOLAP which outputs a functional document structure with dimensions and cells informed by user provided document metadata. Each cell within the text-cube corresponds to a subset of documents. Following are the steps to create a text-cube.\n",
    "\n",
    "**Selection of user defined categories** :  User selects the MeSH descriptors associated with the defined categories. Using those MeSH descriptors, cells of the documents are prepared. MeSH to PMID mapping prepared at step 2.4 is used to populate user defined cells in text-cube.\n",
    "\n",
    "**Implementation of MeSH descriptors** :  U.S. National Library of Medicine provides the Medical Subject Heading (MeSH) in the hierarchical tree(data structure) with node ids. This permits searching for publications at varying levels of specificity. With given set of root node ids, one can select all documents for a specific cell by collecting all descendant nodes. \n",
    "\n",
    "**Text-cube metadata preparation** : A collection of user provided metadata(cell name, associated MeSH, PMID etc) representing each text document in the cell is prepared. There could be the significant number of  documents falling under two or more cells. A dimensional hierarchy is implemented to organize the text-cube, providing each cell with a specific cell context (e.g., a parent cell, child cell, or sibling cell). Following are the steps to prepare cell-document metadata preparation:\n",
    "- provide the name of the cell,\n",
    "- make a list of document id (PMID) within each cell,\n",
    "- count the number of documents in each cell.\n",
    "\n"
   ]
  },
  {
   "cell_type": "markdown",
   "metadata": {
    "colab_type": "text",
    "id": "jukxOGqGcrxK"
   },
   "source": [
    "#### Import required libraries"
   ]
  },
  {
   "cell_type": "code",
   "execution_count": 0,
   "metadata": {
    "colab": {
     "autoexec": {
      "startup": false,
      "wait_interval": 0
     }
    },
    "colab_type": "code",
    "id": "pxWj_eW2sChH"
   },
   "outputs": [],
   "source": [
    "import json\n",
    "import sys\n",
    "import time\n"
   ]
  },
  {
   "cell_type": "markdown",
   "metadata": {
    "colab_type": "text",
    "id": "aTeB_FlNcv1c"
   },
   "source": [
    "**Set up input and out file address**"
   ]
  },
  {
   "cell_type": "code",
   "execution_count": 0,
   "metadata": {
    "colab": {
     "autoexec": {
      "startup": false,
      "wait_interval": 0
     }
    },
    "colab_type": "code",
    "id": "lLFF_k3VcwPW"
   },
   "outputs": [],
   "source": [
    "input_file_meshtree = \"input/mtrees2018.bin\"  \n",
    "input_file_mesh2pmid = \"mesh2pmid.json\"\n",
    "input_file_input_cat = 'input/CVD_categories.txt'  \n",
    "output_file_pmid_and_cat = \"pmid_and_cat.json\"\n",
    "\n",
    "concerned_cat = []"
   ]
  },
  {
   "cell_type": "markdown",
   "metadata": {
    "colab_type": "text",
    "id": "BJjtufjHZ6ru"
   },
   "source": [
    "#### Collection of all decendent MeSH nods in MeSH tree"
   ]
  },
  {
   "cell_type": "code",
   "execution_count": 0,
   "metadata": {
    "colab": {
     "autoexec": {
      "startup": false,
      "wait_interval": 0
     }
    },
    "colab_type": "code",
    "id": "yZjExUZ-sChL"
   },
   "outputs": [],
   "source": [
    "\"\"\"\n",
    "Find corresponding MeSH Terms for each category.\n",
    "\"\"\"\n",
    "with open(input_file_input_cat, \"r\") as f_in_input_cat:\n",
    "    for line in f_in_input_cat:\n",
    "        concerned_cat.append(line.strip().split())\n",
    "num_cat = len(concerned_cat)\n",
    "\n",
    "term_set_per_cat = [set() for _ in range(num_cat)]\n",
    "with open(input_file_meshtree, \"r\") as f_in_meshtree:\n",
    "    for line in f_in_meshtree:\n",
    "        term_tree = line.strip().split(\";\")\n",
    "        cur_term = term_tree[0]\n",
    "        cur_tree = term_tree[1]\n",
    "\n",
    "        for i in range(num_cat):\n",
    "            for cur_cat_tree in concerned_cat[i]:\n",
    "                if cur_cat_tree in cur_tree:\n",
    "                    term_set_per_cat[i].add(cur_term)\n",
    "                          "
   ]
  },
  {
   "cell_type": "markdown",
   "metadata": {
    "colab_type": "text",
    "id": "_pI9q4O7eM-u"
   },
   "source": [
    "#### Application of ```Mesh to PMID mapping``` to find documents for each cell"
   ]
  },
  {
   "cell_type": "code",
   "execution_count": 0,
   "metadata": {
    "colab": {
     "autoexec": {
      "startup": false,
      "wait_interval": 0
     }
    },
    "colab_type": "code",
    "id": "1uLYtfOWsChW"
   },
   "outputs": [],
   "source": [
    "\"\"\"\n",
    "Find corresponding papers for each category.\n",
    "\"\"\"\n",
    "\n",
    "pmid_set_per_cat = [set() for _ in range(num_cat)]\n",
    "with open(input_file_mesh2pmid, \"r\") as f_in:\n",
    "    \n",
    "    start = time.time()\n",
    "        \n",
    "    k = 0\n",
    "    for line in f_in: \n",
    "        \n",
    "        mesh2pmid = {}\n",
    "        Info = json.loads(line.strip())\n",
    "        for key,value in Info.items():\n",
    "            mesh2pmid.update({key:value})\n",
    "        \n",
    "        k = k+1\n",
    "        if k%1000 ==0:\n",
    "            print(k,'done!')\n",
    "            #break\n",
    "\n",
    "        for i in range(num_cat):\n",
    "            for cur_term in term_set_per_cat[i]:\n",
    "                if cur_term == key:\n",
    "                    pmid_set_per_cat[i] = pmid_set_per_cat[i] | set(mesh2pmid[cur_term])      "
   ]
  },
  {
   "cell_type": "markdown",
   "metadata": {
    "colab_type": "text",
    "id": "NigFp2Jzemhh"
   },
   "source": [
    "#### Creation of PMID to Cell mapping"
   ]
  },
  {
   "cell_type": "code",
   "execution_count": 0,
   "metadata": {
    "colab": {
     "autoexec": {
      "startup": false,
      "wait_interval": 0
     }
    },
    "colab_type": "code",
    "id": "CcoHWdTzsCha"
   },
   "outputs": [],
   "source": [
    "\"\"\"\n",
    "Serialize papers\n",
    "\"\"\"\n",
    "pmid_and_cat = []\n",
    "for i in range(num_cat):\n",
    "    for cur_pmid in pmid_set_per_cat[i]:\n",
    "        pmid_and_cat.append([cur_pmid, i])\n",
    "\n",
    "with open(output_file_pmid_and_cat, \"w\") as f_out:\n",
    "    json.dump(pmid_and_cat, f_out)"
   ]
  },
  {
   "cell_type": "markdown",
   "metadata": {
    "colab_type": "text",
    "id": "9aki7O6BsChe"
   },
   "source": [
    "#### Result Statistics"
   ]
  },
  {
   "cell_type": "code",
   "execution_count": 0,
   "metadata": {
    "colab": {
     "autoexec": {
      "startup": false,
      "wait_interval": 0
     }
    },
    "colab_type": "code",
    "id": "pQSgWDQosChf"
   },
   "outputs": [],
   "source": [
    "with open(output_file_pmid_and_cat) as f:\n",
    "    pmidncat = json.load(f)   \n",
    "nc =6\n",
    "cell_count = [0 for i in range(nc)]\n",
    "for item in pmidncat:\n",
    "    if item[1] == 0:\n",
    "        cell_count[0] += 1\n",
    "    elif item[1] == 1:\n",
    "        cell_count[1] += 1\n",
    "    elif item[1] == 1:\n",
    "        cell_count[2] += 1\n",
    "    elif item[1] == 1:\n",
    "        cell_count[3] += 1\n",
    "    elif item[1] == 1:\n",
    "        cell_count[4] += 1\n",
    "    elif item[1] == 1:\n",
    "        cell_count[5] += 1\n",
    "print('total pmids selected in class 1, 2,3,4,5,6 and total is : ', cell_count,sum(cell_count) )   "
   ]
  }
 ],
 "metadata": {
  "colab": {
   "collapsed_sections": [],
   "default_view": {},
   "name": "4. TextCube.ipynb",
   "provenance": [],
   "version": "0.3.2",
   "views": {}
  },
  "kernelspec": {
   "display_name": "Python 3",
   "language": "python",
   "name": "python3"
  },
  "language_info": {
   "codemirror_mode": {
    "name": "ipython",
    "version": 3
   },
   "file_extension": ".py",
   "mimetype": "text/x-python",
   "name": "python",
   "nbconvert_exporter": "python",
   "pygments_lexer": "ipython3",
   "version": "3.6.4"
  }
 },
 "nbformat": 4,
 "nbformat_minor": 1
}
